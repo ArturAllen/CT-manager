{
 "cells": [
  {
   "cell_type": "markdown",
   "id": "1854eda0",
   "metadata": {},
   "source": [
    "<h2><center> CT Manager - Método 1 - Carregamento das Imagens diretamente na árvore </center></h2>"
   ]
  },
  {
   "cell_type": "markdown",
   "id": "1f1e2517",
   "metadata": {},
   "source": [
    "### Grupo"
   ]
  },
  {
   "cell_type": "markdown",
   "id": "1d588d83",
   "metadata": {},
   "source": [
    "Artur, David, Felipe, Felipe, Jacqueline, Leonardo, Lucas, Matheus, Samira, Vittória"
   ]
  },
  {
   "cell_type": "markdown",
   "id": "d490ba8e",
   "metadata": {},
   "source": [
    "#### Bibliotecas necessárias para execução do programa"
   ]
  },
  {
   "cell_type": "code",
   "execution_count": 1,
   "id": "bce42dd1",
   "metadata": {},
   "outputs": [],
   "source": [
    "# pip install nibabel\n",
    "# pip install bplustree\n",
    "# pip install uuid\n",
    "# pip install pandas\n",
    "# pip install matplotlib"
   ]
  },
  {
   "cell_type": "markdown",
   "id": "c432f772",
   "metadata": {},
   "source": [
    "#### Importando bibliotecas necessárias"
   ]
  },
  {
   "cell_type": "code",
   "execution_count": 34,
   "id": "5b4c3278",
   "metadata": {},
   "outputs": [],
   "source": [
    "import nibabel as nib\n",
    "import numpy as np\n",
    "import matplotlib.pyplot as plt\n",
    "from bplustree import BPlusTree as bpt\n",
    "from bplustree import UUIDSerializer\n",
    "import uuid\n",
    "import os\n",
    "import pickle\n",
    "import uuid\n",
    "import os\n",
    "import json\n",
    "import gc\n",
    "from time import sleep\n",
    "import ipywidgets as widgets"
   ]
  },
  {
   "cell_type": "markdown",
   "id": "e5a414d8",
   "metadata": {},
   "source": [
    "#### Função para carregamento da árvore"
   ]
  },
  {
   "cell_type": "code",
   "execution_count": 3,
   "id": "e26993f8",
   "metadata": {},
   "outputs": [],
   "source": [
    "def initializeTree():\n",
    "    return bpt('tmp/bplustree.db', serializer=UUIDSerializer(), key_size=16)"
   ]
  },
  {
   "cell_type": "code",
   "execution_count": 4,
   "id": "07cf2593",
   "metadata": {},
   "outputs": [],
   "source": [
    "imgs = []\n",
    "secs = []\n",
    "\n",
    "tree = initializeTree()\n",
    "tree.checkpoint()"
   ]
  },
  {
   "cell_type": "code",
   "execution_count": 5,
   "id": "632e934a",
   "metadata": {},
   "outputs": [],
   "source": [
    "def dropFromRecord(i):\n",
    "    if (i < len(ims)):\n",
    "        ims.pop(i)"
   ]
  },
  {
   "cell_type": "markdown",
   "id": "fb3770bf",
   "metadata": {},
   "source": [
    "#### Função para exibição de imagens"
   ]
  },
  {
   "cell_type": "code",
   "execution_count": 37,
   "id": "f1c70ae6",
   "metadata": {},
   "outputs": [],
   "source": [
    "def section_widget(sec1=0, sec2=0):\n",
    "    length = len(imgs)\n",
    "    \n",
    "    if (length == 0):\n",
    "        print('Nenhuma imagem carregada')\n",
    "        return\n",
    "    \n",
    "    plt.figure(figsize = (15,5))\n",
    "    \n",
    "    if (length == 1):\n",
    "        plt.imshow(imgs[0][:,:,sec1])\n",
    "    else:\n",
    "        _, axarr = plt.subplots(1,2, figsize = (15,5))\n",
    "\n",
    "        axarr[0].imshow(imgs[0][:,:,sec1])\n",
    "        axarr[1].imshow(imgs[1][:,:,sec2])"
   ]
  },
  {
   "cell_type": "code",
   "execution_count": 35,
   "id": "6e15fdb0",
   "metadata": {},
   "outputs": [],
   "source": [
    "def showImsAndWidgets():\n",
    "    if (len(imgs)==0):\n",
    "        print('Nenhuma imagem carregada')\n",
    "    elif (len(imgs)==1):\n",
    "        shp0 = np.shape(imgs[0])\n",
    "        widgets.interact(section_widget, sec1=(0,shp0[2]))\n",
    "    else:\n",
    "        shp0 = np.shape(imgs[0])\n",
    "        shp1 = np.shape(imgs[1])\n",
    "        widgets.interact(section_widget, sec1=(0,shp0[2]), sec2=(0,shp1[2]))"
   ]
  },
  {
   "cell_type": "markdown",
   "id": "747f19c0",
   "metadata": {},
   "source": [
    "#### Apenas 2 imagens devem ficar na memória principal (conforme especificações)\n",
    "#####    - A função abaixo garante com que essa especificação seja cumprida"
   ]
  },
  {
   "cell_type": "code",
   "execution_count": 9,
   "id": "63185b20",
   "metadata": {},
   "outputs": [],
   "source": [
    "# Função addImageToRecord adaptada para árvore B+\n",
    "def addImageToRecord(img_name, tree, keys):\n",
    "    \n",
    "    if len(keys) == 0:\n",
    "        print('Não há chaves salvas!')\n",
    "        return\n",
    "    \n",
    "    if img_name not in keys:\n",
    "        print('Imagem não está no banco de dados!')\n",
    "        return\n",
    "\n",
    "    im = pickle.loads(tree.get(uuid.UUID(keys.get(img_name)))).get_fdata()\n",
    "    imgs.append(im)\n",
    "    secs.append(0)\n",
    "    \n",
    "    if(len(imgs) > 2):\n",
    "        imgs.pop(0)\n",
    "        secs.pop(0)"
   ]
  },
  {
   "cell_type": "markdown",
   "id": "58dcd85d",
   "metadata": {},
   "source": [
    "#### Função para seleção das seções de cada imagem"
   ]
  },
  {
   "cell_type": "markdown",
   "id": "1534b0e0",
   "metadata": {},
   "source": [
    "#### Função para carregamento das imagens na árvore (ATENÇÃO: a biblioteca utilizada limita a operação de inserção a cada 11gb, portanto, a inserção de 20gb deve ser feita em duas etapas, com cada conjunto de imagens tendo no máximo 11gb)"
   ]
  },
  {
   "cell_type": "code",
   "execution_count": 11,
   "id": "362d77c5",
   "metadata": {},
   "outputs": [],
   "source": [
    "def chargeTree(img_folder, keys, tree):\n",
    "    \n",
    "    img_list = os.listdir(img_folder)\n",
    "    img_list.sort()\n",
    "    \n",
    "    # img_list = img_list[img_list.index('380.nii'):]\n",
    "    imgs_charge = {}\n",
    "\n",
    "    n = 0\n",
    "    \n",
    "    for image in img_list:\n",
    "        print(image)\n",
    "        id = uuid.uuid1()\n",
    "        imgs_charge[id] = pickle.dumps(nib.load(img_folder + '/' + image))\n",
    "        keys[image] = str(id)\n",
    "    \n",
    "    tree.batch_insert(iter(imgs_charge.items()))\n",
    "    tree.checkpoint()\n",
    "        "
   ]
  },
  {
   "cell_type": "markdown",
   "id": "e23e616b",
   "metadata": {},
   "source": [
    "#### Utilize essa função para salvar as chaves em disco"
   ]
  },
  {
   "cell_type": "code",
   "execution_count": 12,
   "id": "01ee6d4f",
   "metadata": {},
   "outputs": [],
   "source": [
    "def saveKeys(keys):\n",
    "    with open('keys.json', 'w') as js:\n",
    "        json.dump(keys, js)"
   ]
  },
  {
   "cell_type": "markdown",
   "id": "bb777006",
   "metadata": {},
   "source": [
    "#### Utilize essa função caso queira renomear os arquivos na pasta"
   ]
  },
  {
   "cell_type": "code",
   "execution_count": 14,
   "id": "7a3aa6f8",
   "metadata": {},
   "outputs": [],
   "source": [
    "def rename_files(folder):\n",
    "    lista = os.listdir(folder)\n",
    "    n = 212\n",
    "    \n",
    "    for i in lista:\n",
    "        os.rename(folder + '/' + i, folder + '/' + f'{n}.nii')\n",
    "        n+=1\n"
   ]
  },
  {
   "cell_type": "markdown",
   "id": "796d8386",
   "metadata": {},
   "source": [
    "#### Utilize essa função para carregar na memória principal as chaves"
   ]
  },
  {
   "cell_type": "code",
   "execution_count": 15,
   "id": "7493d5ee",
   "metadata": {},
   "outputs": [],
   "source": [
    "def chargeKeys():\n",
    "    keys = {}\n",
    "    with open('keys.json', 'rb') as js:\n",
    "            return json.load(js)"
   ]
  },
  {
   "cell_type": "code",
   "execution_count": 16,
   "id": "8cc66a44",
   "metadata": {},
   "outputs": [],
   "source": [
    "keys = {}"
   ]
  },
  {
   "cell_type": "code",
   "execution_count": 18,
   "id": "fe5e28e5",
   "metadata": {},
   "outputs": [
    {
     "name": "stdout",
     "output_type": "stream",
     "text": [
      "100.nii\n",
      "101.nii\n",
      "102.nii\n",
      "103.nii\n",
      "104.nii\n",
      "105.nii\n",
      "106.nii\n",
      "107.nii\n",
      "108.nii\n",
      "109.nii\n",
      "110.nii\n",
      "111.nii\n",
      "112.nii\n",
      "113.nii\n",
      "114.nii\n",
      "115.nii\n",
      "116.nii\n",
      "117.nii\n",
      "118.nii\n",
      "119.nii\n",
      "120.nii\n",
      "121.nii\n",
      "122.nii\n",
      "123.nii\n",
      "124.nii\n",
      "125.nii\n",
      "126.nii\n",
      "127.nii\n",
      "128.nii\n",
      "129.nii\n",
      "130.nii\n",
      "131.nii\n",
      "132.nii\n",
      "133.nii\n",
      "134.nii\n",
      "135.nii\n",
      "136.nii\n",
      "137.nii\n",
      "138.nii\n",
      "139.nii\n",
      "140.nii\n",
      "141.nii\n",
      "142.nii\n",
      "143.nii\n",
      "144.nii\n",
      "145.nii\n",
      "146.nii\n",
      "147.nii\n",
      "148.nii\n",
      "149.nii\n",
      "150.nii\n",
      "151.nii\n",
      "152.nii\n",
      "153.nii\n",
      "154.nii\n",
      "155.nii\n",
      "156.nii\n",
      "157.nii\n",
      "158.nii\n",
      "159.nii\n",
      "160.nii\n",
      "161.nii\n",
      "162.nii\n",
      "163.nii\n",
      "164.nii\n",
      "165.nii\n",
      "166.nii\n",
      "167.nii\n",
      "168.nii\n",
      "169.nii\n",
      "170.nii\n",
      "171.nii\n",
      "172.nii\n",
      "173.nii\n",
      "174.nii\n",
      "175.nii\n",
      "176.nii\n",
      "177.nii\n",
      "178.nii\n",
      "179.nii\n",
      "180.nii\n",
      "181.nii\n",
      "182.nii\n",
      "183.nii\n",
      "184.nii\n",
      "185.nii\n",
      "186.nii\n",
      "187.nii\n",
      "188.nii\n",
      "189.nii\n",
      "190.nii\n",
      "191.nii\n",
      "192.nii\n",
      "193.nii\n",
      "194.nii\n",
      "195.nii\n",
      "196.nii\n",
      "197.nii\n",
      "198.nii\n",
      "199.nii\n",
      "200.nii\n",
      "201.nii\n",
      "202.nii\n",
      "203.nii\n",
      "204.nii\n",
      "205.nii\n",
      "206.nii\n",
      "207.nii\n",
      "208.nii\n",
      "209.nii\n",
      "210.nii\n",
      "211.nii\n",
      "CPU times: total: 172 ms\n",
      "Wall time: 175 ms\n"
     ]
    }
   ],
   "source": [
    "%%time\n",
    "# Carregando imagens teste para a árvore B+\n",
    "tree.checkpoint()\n",
    "chargeTree('CTS1', keys, tree)"
   ]
  },
  {
   "cell_type": "code",
   "execution_count": 19,
   "id": "87ad068f",
   "metadata": {},
   "outputs": [],
   "source": [
    "saveKeys(keys)"
   ]
  },
  {
   "cell_type": "code",
   "execution_count": 20,
   "id": "f35bef3b",
   "metadata": {},
   "outputs": [],
   "source": [
    "tree.checkpoint()"
   ]
  },
  {
   "cell_type": "code",
   "execution_count": 32,
   "id": "d72b6794",
   "metadata": {},
   "outputs": [],
   "source": [
    "# Carregando duas imagens para o programa\n",
    "addImageToRecord('100.nii', tree, keys)\n",
    "addImageToRecord('200.nii', tree, keys)"
   ]
  },
  {
   "cell_type": "code",
   "execution_count": 38,
   "id": "59f353c0",
   "metadata": {},
   "outputs": [
    {
     "data": {
      "application/vnd.jupyter.widget-view+json": {
       "model_id": "4bf82563ba7042889b4741195cbacae1",
       "version_major": 2,
       "version_minor": 0
      },
      "text/plain": [
       "interactive(children=(IntSlider(value=0, description='sec1', max=195), IntSlider(value=0, description='sec2', …"
      ]
     },
     "metadata": {},
     "output_type": "display_data"
    }
   ],
   "source": [
    "# Exibindo imagens carregadas\n",
    "showImsAndWidgets()"
   ]
  },
  {
   "cell_type": "code",
   "execution_count": null,
   "id": "1b11aac3",
   "metadata": {},
   "outputs": [],
   "source": [
    "tree.close()"
   ]
  },
  {
   "cell_type": "code",
   "execution_count": null,
   "id": "91d17d08",
   "metadata": {},
   "outputs": [],
   "source": []
  }
 ],
 "metadata": {
  "kernelspec": {
   "display_name": "Python 3 (ipykernel)",
   "language": "python",
   "name": "python3"
  },
  "language_info": {
   "codemirror_mode": {
    "name": "ipython",
    "version": 3
   },
   "file_extension": ".py",
   "mimetype": "text/x-python",
   "name": "python",
   "nbconvert_exporter": "python",
   "pygments_lexer": "ipython3",
   "version": "3.10.7"
  }
 },
 "nbformat": 4,
 "nbformat_minor": 5
}
