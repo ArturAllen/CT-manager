{
 "cells": [
  {
   "cell_type": "code",
   "execution_count": 1,
   "id": "a349fcb4",
   "metadata": {},
   "outputs": [],
   "source": [
    "# pip install ipywidgets\n",
    "# pip install nibabel"
   ]
  },
  {
   "cell_type": "code",
   "execution_count": 2,
   "id": "828cf2b2",
   "metadata": {},
   "outputs": [],
   "source": [
    "import nibabel as nib\n",
    "import numpy as np\n",
    "import matplotlib.pyplot as plt\n",
    "import ipywidgets as widgets"
   ]
  },
  {
   "cell_type": "code",
   "execution_count": 35,
   "id": "166453fa",
   "metadata": {},
   "outputs": [],
   "source": [
    "ims = []"
   ]
  },
  {
   "cell_type": "code",
   "execution_count": 11,
   "id": "b5384b95",
   "metadata": {},
   "outputs": [],
   "source": [
    "def dropFromRecord(i):\n",
    "    if (i < len(ims)):\n",
    "        ims.pop(i)"
   ]
  },
  {
   "cell_type": "code",
   "execution_count": 5,
   "id": "52eea313",
   "metadata": {},
   "outputs": [],
   "source": [
    "def addImageToRecord(img_path):\n",
    "    im = nib.load(img_path).get_fdata()\n",
    "    ims.append(im)\n",
    "    \n",
    "    if(len(ims) > 2):\n",
    "        ims.pop(0)"
   ]
  },
  {
   "cell_type": "code",
   "execution_count": 6,
   "id": "fec9bb7c",
   "metadata": {},
   "outputs": [],
   "source": [
    "def section_widget(sec1=0, sec2=0):\n",
    "    length = len(ims)\n",
    "    \n",
    "    if (length == 0):\n",
    "        print('Nenhuma imagem carregada')\n",
    "        return\n",
    "    \n",
    "    plt.figure(figsize = (15,5))\n",
    "    \n",
    "    if (length == 1):\n",
    "        plt.imshow(ims[0][:,:,sec1])\n",
    "    else:\n",
    "        _, axarr = plt.subplots(1,2, figsize = (15,5))\n",
    "\n",
    "        axarr[0].imshow(ims[0][:,:,sec1])\n",
    "        axarr[1].imshow(ims[1][:,:,sec2])"
   ]
  },
  {
   "cell_type": "code",
   "execution_count": 7,
   "id": "0c2c19e7",
   "metadata": {},
   "outputs": [],
   "source": [
    "def showImsAndWidgets():\n",
    "    if (len(ims)==0):\n",
    "        print('Nenhuma imagem carregada')\n",
    "    elif (len(ims)==1):\n",
    "        shp0 = np.shape(ims[0])\n",
    "        widgets.interact(section_widget, sec1=(0,shp0[2]))\n",
    "    else:\n",
    "        shp0 = np.shape(ims[0])\n",
    "        shp1 = np.shape(ims[1])\n",
    "        widgets.interact(section_widget, sec1=(0,shp0[2]), sec2=(0,shp1[2]))"
   ]
  },
  {
   "cell_type": "code",
   "execution_count": 36,
   "id": "3a6f9c32",
   "metadata": {},
   "outputs": [
    {
     "data": {
      "application/vnd.jupyter.widget-view+json": {
       "model_id": "8547626751244591baf67bb9f1b220c0",
       "version_major": 2,
       "version_minor": 0
      },
      "text/plain": [
       "interactive(children=(IntSlider(value=0, description='sec1', max=195), IntSlider(value=0, description='sec2', …"
      ]
     },
     "metadata": {},
     "output_type": "display_data"
    }
   ],
   "source": [
    "addImageToRecord('CTS/1.nii')\n",
    "addImageToRecord('CTS/7.nii')\n",
    "showImsAndWidgets()"
   ]
  },
  {
   "cell_type": "code",
   "execution_count": null,
   "id": "6596c4e2",
   "metadata": {},
   "outputs": [],
   "source": []
  }
 ],
 "metadata": {
  "kernelspec": {
   "display_name": "Python 3 (ipykernel)",
   "language": "python",
   "name": "python3"
  },
  "language_info": {
   "codemirror_mode": {
    "name": "ipython",
    "version": 3
   },
   "file_extension": ".py",
   "mimetype": "text/x-python",
   "name": "python",
   "nbconvert_exporter": "python",
   "pygments_lexer": "ipython3",
   "version": "3.8.12"
  }
 },
 "nbformat": 4,
 "nbformat_minor": 5
}
