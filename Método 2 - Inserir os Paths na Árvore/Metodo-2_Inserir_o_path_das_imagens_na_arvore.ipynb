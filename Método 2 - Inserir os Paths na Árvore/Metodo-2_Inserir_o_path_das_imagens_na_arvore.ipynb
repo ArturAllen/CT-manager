{
 "cells": [
  {
   "cell_type": "markdown",
   "id": "e67d6a21",
   "metadata": {},
   "source": [
    "<h2><center> CT Manager - Método 2 - Carregamento dos Paths das Imagens na árvore </center></h2>"
   ]
  },
  {
   "cell_type": "markdown",
   "id": "0096080f",
   "metadata": {},
   "source": [
    "### Grupo"
   ]
  },
  {
   "cell_type": "markdown",
   "id": "d8209f12",
   "metadata": {},
   "source": [
    "Artur, David, Felipe, Felipe, Jacqueline, Leonardo, Lucas, Matheus, Samira, Vittória"
   ]
  },
  {
   "cell_type": "markdown",
   "id": "d490ba8e",
   "metadata": {},
   "source": [
    "#### Bibliotecas necessárias para execução do programa"
   ]
  },
  {
   "cell_type": "code",
   "execution_count": 2,
   "id": "bce42dd1",
   "metadata": {},
   "outputs": [],
   "source": [
    "# pip install nibabel\n",
    "# pip install bplustree\n",
    "# pip install uuid\n",
    "# pip install pandas\n",
    "# pip install matplotlib"
   ]
  },
  {
   "cell_type": "markdown",
   "id": "e80510f9",
   "metadata": {},
   "source": [
    "#### Importando bibliotecas necessárias"
   ]
  },
  {
   "cell_type": "code",
   "execution_count": 1,
   "id": "5b4c3278",
   "metadata": {},
   "outputs": [],
   "source": [
    "import nibabel as nib\n",
    "import numpy as np\n",
    "import matplotlib.pyplot as plt\n",
    "from bplustree import BPlusTree as bpt\n",
    "from bplustree import UUIDSerializer\n",
    "import uuid\n",
    "import os\n",
    "import pickle\n",
    "import uuid\n",
    "import os\n",
    "import json\n",
    "import gc\n",
    "from time import sleep\n",
    "import ipywidgets as widgets"
   ]
  },
  {
   "cell_type": "markdown",
   "id": "8fb7576d",
   "metadata": {},
   "source": [
    "#### Função para carregamento da árvore"
   ]
  },
  {
   "cell_type": "code",
   "execution_count": 4,
   "id": "e26993f8",
   "metadata": {},
   "outputs": [],
   "source": [
    "def initializeTree():\n",
    "    return bpt('tmp/bplustree.db', serializer=UUIDSerializer(), key_size=16)"
   ]
  },
  {
   "cell_type": "code",
   "execution_count": 5,
   "id": "07cf2593",
   "metadata": {},
   "outputs": [],
   "source": [
    "imgs = []\n",
    "secs = []\n",
    "\n",
    "tree = initializeTree()\n",
    "tree.checkpoint()"
   ]
  },
  {
   "cell_type": "markdown",
   "id": "5ec84dc7",
   "metadata": {},
   "source": [
    "#### Função para exibição de imagens"
   ]
  },
  {
   "cell_type": "code",
   "execution_count": null,
   "id": "4b0f677d",
   "metadata": {},
   "outputs": [],
   "source": [
    "def section_widget(sec1=0, sec2=0):\n",
    "    length = len(imgs)\n",
    "    \n",
    "    if (length == 0):\n",
    "        print('Nenhuma imagem carregada')\n",
    "        return\n",
    "    \n",
    "    plt.figure(figsize = (15,5))\n",
    "    \n",
    "    if (length == 1):\n",
    "        plt.imshow(imgs[0][:,:,sec1])\n",
    "    else:\n",
    "        _, axarr = plt.subplots(1,2, figsize = (15,5))\n",
    "\n",
    "        axarr[0].imshow(imgs[0][:,:,sec1])\n",
    "        axarr[1].imshow(imgs[1][:,:,sec2])"
   ]
  },
  {
   "cell_type": "code",
   "execution_count": 6,
   "id": "a01bd1aa",
   "metadata": {},
   "outputs": [],
   "source": [
    "def showImsAndWidgets():\n",
    "    if (len(imgs)==0):\n",
    "        print('Nenhuma imagem carregada')\n",
    "    elif (len(imgs)==1):\n",
    "        shp0 = np.shape(imgs[0])\n",
    "        widgets.interact(section_widget, sec1=(0,shp0[2]))\n",
    "    else:\n",
    "        shp0 = np.shape(imgs[0])\n",
    "        shp1 = np.shape(imgs[1])\n",
    "        widgets.interact(section_widget, sec1=(0,shp0[2]), sec2=(0,shp1[2]))"
   ]
  },
  {
   "cell_type": "markdown",
   "id": "6d09bcbf",
   "metadata": {},
   "source": [
    "#### Apenas 2 imagens devem ficar na memória principal (conforme especificações)\n",
    "#####    - A função abaixo garante com que essa especificação seja cumprida"
   ]
  },
  {
   "cell_type": "code",
   "execution_count": 21,
   "id": "63185b20",
   "metadata": {},
   "outputs": [],
   "source": [
    "# Função addImageToRecord adaptada para árvore B+\n",
    "def addImageToRecord(img_name, tree, keys):\n",
    "    \n",
    "    if len(keys) == 0:\n",
    "        print('Não há chaves salvas!')\n",
    "        return\n",
    "    \n",
    "    if img_name not in keys:\n",
    "        print('Imagem não está no banco de dados!')\n",
    "        return\n",
    "\n",
    "    im = nib.load(tree.get(uuid.UUID(keys.get(img_name))).decode('utf-8')).get_fdata()\n",
    "    imgs.append(im)\n",
    "    secs.append(0)\n",
    "    \n",
    "    if(len(imgs) > 2):\n",
    "        imgs.pop(0)\n",
    "        secs.pop(0)"
   ]
  },
  {
   "cell_type": "markdown",
   "id": "c2ef3881",
   "metadata": {},
   "source": [
    "#### Função para carregamento das imagens na árvore"
   ]
  },
  {
   "cell_type": "code",
   "execution_count": 9,
   "id": "362d77c5",
   "metadata": {},
   "outputs": [],
   "source": [
    "def chargeTree(img_folder, keys, tree):\n",
    "    \n",
    "    img_list = os.listdir(img_folder)\n",
    "    img_list.sort()\n",
    "    \n",
    "    # img_list = img_list[img_list.index('380.nii'):]\n",
    "    imgs_charge = {}\n",
    "\n",
    "    n = 0\n",
    "    \n",
    "    for image in img_list:\n",
    "        print(image)\n",
    "        id = uuid.uuid1()\n",
    "        path = img_folder + f'/{image}'\n",
    "        imgs_charge[id] = bytes(path, 'utf-8')\n",
    "        keys[image] = str(id)\n",
    "    \n",
    "    tree.batch_insert(iter(imgs_charge.items()))\n",
    "    tree.checkpoint()\n",
    "        "
   ]
  },
  {
   "cell_type": "markdown",
   "id": "13c65b03",
   "metadata": {},
   "source": [
    "#### Utilize essa função para salvar as chaves em disco"
   ]
  },
  {
   "cell_type": "code",
   "execution_count": 10,
   "id": "8dd85801",
   "metadata": {},
   "outputs": [],
   "source": [
    "def saveKeys(keys):\n",
    "    with open('keys.json', 'w') as js:\n",
    "        json.dump(keys, js)"
   ]
  },
  {
   "cell_type": "markdown",
   "id": "e1b41bf0",
   "metadata": {},
   "source": [
    "#### Utilize essa função para renomear os arquivos em uma pasta"
   ]
  },
  {
   "cell_type": "code",
   "execution_count": null,
   "id": "1bb3072f",
   "metadata": {},
   "outputs": [],
   "source": [
    "def rename_files(folder):\n",
    "    lista = os.listdir(folder)\n",
    "    n = 409\n",
    "    \n",
    "    for i in lista:\n",
    "        os.rename(folder + '/' + i, folder + '/' + f'{n}.nii')\n",
    "        n+=1\n"
   ]
  },
  {
   "cell_type": "markdown",
   "id": "ce91529d",
   "metadata": {},
   "source": [
    "#### Utilize essa função para carregar as chaves do disco para a memória principal"
   ]
  },
  {
   "cell_type": "code",
   "execution_count": 13,
   "id": "48d8e3ee",
   "metadata": {},
   "outputs": [],
   "source": [
    "def chargeKeys():\n",
    "    keys = {}\n",
    "    with open('keys.json', 'rb') as js:\n",
    "            return json.load(js)"
   ]
  },
  {
   "cell_type": "code",
   "execution_count": 14,
   "id": "aefad3d0",
   "metadata": {},
   "outputs": [],
   "source": [
    "keys = {}"
   ]
  },
  {
   "cell_type": "code",
   "execution_count": null,
   "id": "c566c7c6",
   "metadata": {},
   "outputs": [],
   "source": [
    "keys = chargeKeys()"
   ]
  },
  {
   "cell_type": "code",
   "execution_count": 15,
   "id": "30a19183",
   "metadata": {},
   "outputs": [
    {
     "name": "stdout",
     "output_type": "stream",
     "text": [
      "300.nii\n",
      "301.nii\n",
      "302.nii\n",
      "303.nii\n",
      "304.nii\n",
      "305.nii\n",
      "306.nii\n",
      "307.nii\n",
      "308.nii\n",
      "309.nii\n",
      "310.nii\n",
      "311.nii\n",
      "312.nii\n",
      "313.nii\n",
      "314.nii\n",
      "315.nii\n",
      "316.nii\n",
      "317.nii\n",
      "318.nii\n",
      "319.nii\n",
      "320.nii\n",
      "321.nii\n",
      "322.nii\n",
      "323.nii\n",
      "324.nii\n",
      "325.nii\n",
      "326.nii\n",
      "327.nii\n",
      "328.nii\n",
      "329.nii\n",
      "330.nii\n",
      "331.nii\n",
      "332.nii\n",
      "333.nii\n",
      "334.nii\n",
      "335.nii\n",
      "336.nii\n",
      "337.nii\n",
      "338.nii\n",
      "339.nii\n",
      "340.nii\n",
      "341.nii\n",
      "342.nii\n",
      "343.nii\n",
      "344.nii\n",
      "345.nii\n",
      "346.nii\n",
      "347.nii\n",
      "348.nii\n",
      "349.nii\n",
      "350.nii\n",
      "351.nii\n",
      "352.nii\n",
      "353.nii\n",
      "354.nii\n",
      "355.nii\n",
      "356.nii\n",
      "357.nii\n",
      "358.nii\n",
      "359.nii\n",
      "360.nii\n",
      "361.nii\n",
      "362.nii\n",
      "363.nii\n",
      "364.nii\n",
      "365.nii\n",
      "366.nii\n",
      "367.nii\n",
      "368.nii\n",
      "369.nii\n",
      "370.nii\n",
      "371.nii\n",
      "372.nii\n",
      "373.nii\n",
      "374.nii\n",
      "375.nii\n",
      "376.nii\n",
      "377.nii\n",
      "378.nii\n",
      "379.nii\n",
      "380.nii\n",
      "381.nii\n",
      "382.nii\n",
      "383.nii\n",
      "384.nii\n",
      "385.nii\n",
      "386.nii\n",
      "387.nii\n",
      "388.nii\n",
      "389.nii\n",
      "390.nii\n",
      "391.nii\n",
      "392.nii\n",
      "393.nii\n",
      "394.nii\n",
      "395.nii\n",
      "396.nii\n",
      "397.nii\n",
      "398.nii\n",
      "399.nii\n",
      "400.nii\n",
      "401.nii\n",
      "402.nii\n",
      "403.nii\n",
      "404.nii\n",
      "405.nii\n",
      "406.nii\n",
      "407.nii\n",
      "408.nii\n",
      "409.nii\n",
      "410.nii\n",
      "411.nii\n",
      "412.nii\n",
      "413.nii\n",
      "414.nii\n",
      "415.nii\n",
      "416.nii\n",
      "417.nii\n",
      "418.nii\n",
      "419.nii\n",
      "420.nii\n",
      "421.nii\n",
      "422.nii\n",
      "423.nii\n",
      "424.nii\n",
      "425.nii\n",
      "426.nii\n",
      "427.nii\n",
      "428.nii\n",
      "429.nii\n",
      "430.nii\n",
      "431.nii\n",
      "432.nii\n",
      "433.nii\n",
      "434.nii\n",
      "435.nii\n",
      "436.nii\n",
      "437.nii\n",
      "438.nii\n",
      "439.nii\n",
      "440.nii\n",
      "441.nii\n",
      "442.nii\n",
      "443.nii\n",
      "444.nii\n",
      "445.nii\n",
      "446.nii\n",
      "447.nii\n",
      "448.nii\n",
      "449.nii\n",
      "450.nii\n",
      "451.nii\n",
      "452.nii\n",
      "453.nii\n",
      "454.nii\n",
      "455.nii\n",
      "456.nii\n",
      "457.nii\n",
      "458.nii\n",
      "459.nii\n",
      "460.nii\n",
      "461.nii\n",
      "462.nii\n",
      "463.nii\n",
      "464.nii\n",
      "465.nii\n",
      "466.nii\n",
      "467.nii\n",
      "468.nii\n",
      "469.nii\n",
      "470.nii\n",
      "471.nii\n",
      "472.nii\n",
      "473.nii\n",
      "474.nii\n",
      "475.nii\n",
      "476.nii\n",
      "477.nii\n",
      "478.nii\n",
      "479.nii\n",
      "480.nii\n",
      "481.nii\n",
      "482.nii\n",
      "483.nii\n",
      "484.nii\n",
      "485.nii\n",
      "486.nii\n",
      "487.nii\n",
      "488.nii\n",
      "489.nii\n",
      "490.nii\n",
      "491.nii\n",
      "492.nii\n",
      "493.nii\n",
      "494.nii\n",
      "495.nii\n",
      "496.nii\n",
      "497.nii\n",
      "498.nii\n",
      "499.nii\n",
      "500.nii\n",
      "501.nii\n",
      "502.nii\n",
      "503.nii\n",
      "504.nii\n",
      "505.nii\n",
      "506.nii\n",
      "507.nii\n",
      "508.nii\n",
      "509.nii\n",
      "510.nii\n",
      "511.nii\n",
      "512.nii\n",
      "513.nii\n",
      "514.nii\n",
      "515.nii\n",
      "516.nii\n",
      "517.nii\n",
      "CPU times: total: 15.6 ms\n",
      "Wall time: 27.9 ms\n"
     ]
    }
   ],
   "source": [
    "%%time\n",
    "tree.checkpoint()\n",
    "chargeTree('test', keys, tree)"
   ]
  },
  {
   "cell_type": "code",
   "execution_count": 16,
   "id": "69ec491d",
   "metadata": {},
   "outputs": [],
   "source": [
    "saveKeys(keys)"
   ]
  },
  {
   "cell_type": "code",
   "execution_count": 17,
   "id": "43d901bb",
   "metadata": {},
   "outputs": [],
   "source": [
    "tree.checkpoint()"
   ]
  },
  {
   "cell_type": "code",
   "execution_count": 20,
   "id": "d72b6794",
   "metadata": {},
   "outputs": [
    {
     "ename": "AttributeError",
     "evalue": "'bytes' object has no attribute 'get_fdata'",
     "output_type": "error",
     "traceback": [
      "\u001b[1;31m---------------------------------------------------------------------------\u001b[0m",
      "\u001b[1;31mAttributeError\u001b[0m                            Traceback (most recent call last)",
      "Cell \u001b[1;32mIn [20], line 2\u001b[0m\n\u001b[0;32m      1\u001b[0m \u001b[38;5;66;03m# Carregando duas imagens para o programa\u001b[39;00m\n\u001b[1;32m----> 2\u001b[0m \u001b[43maddImageToRecord\u001b[49m\u001b[43m(\u001b[49m\u001b[38;5;124;43m'\u001b[39;49m\u001b[38;5;124;43m300.nii\u001b[39;49m\u001b[38;5;124;43m'\u001b[39;49m\u001b[43m,\u001b[49m\u001b[43m \u001b[49m\u001b[43mtree\u001b[49m\u001b[43m,\u001b[49m\u001b[43m \u001b[49m\u001b[43mkeys\u001b[49m\u001b[43m)\u001b[49m\n\u001b[0;32m      3\u001b[0m addImageToRecord(\u001b[38;5;124m'\u001b[39m\u001b[38;5;124m400.nii\u001b[39m\u001b[38;5;124m'\u001b[39m, tree, keys)\n",
      "Cell \u001b[1;32mIn [19], line 12\u001b[0m, in \u001b[0;36maddImageToRecord\u001b[1;34m(img_name, tree, keys)\u001b[0m\n\u001b[0;32m      9\u001b[0m     \u001b[38;5;28mprint\u001b[39m(\u001b[38;5;124m'\u001b[39m\u001b[38;5;124mImagem não está no banco de dados!\u001b[39m\u001b[38;5;124m'\u001b[39m)\n\u001b[0;32m     10\u001b[0m     \u001b[38;5;28;01mreturn\u001b[39;00m\n\u001b[1;32m---> 12\u001b[0m im \u001b[38;5;241m=\u001b[39m \u001b[43mtree\u001b[49m\u001b[38;5;241;43m.\u001b[39;49m\u001b[43mget\u001b[49m\u001b[43m(\u001b[49m\u001b[43muuid\u001b[49m\u001b[38;5;241;43m.\u001b[39;49m\u001b[43mUUID\u001b[49m\u001b[43m(\u001b[49m\u001b[43mkeys\u001b[49m\u001b[38;5;241;43m.\u001b[39;49m\u001b[43mget\u001b[49m\u001b[43m(\u001b[49m\u001b[43mimg_name\u001b[49m\u001b[43m)\u001b[49m\u001b[43m)\u001b[49m\u001b[43m)\u001b[49m\u001b[38;5;241;43m.\u001b[39;49m\u001b[43mget_fdata\u001b[49m()\n\u001b[0;32m     13\u001b[0m imgs\u001b[38;5;241m.\u001b[39mappend(im)\n\u001b[0;32m     14\u001b[0m secs\u001b[38;5;241m.\u001b[39mappend(\u001b[38;5;241m0\u001b[39m)\n",
      "\u001b[1;31mAttributeError\u001b[0m: 'bytes' object has no attribute 'get_fdata'"
     ]
    }
   ],
   "source": [
    "# Carregando duas imagens para o programa\n",
    "addImageToRecord('300.nii', tree, keys)\n",
    "addImageToRecord('400.nii', tree, keys)"
   ]
  },
  {
   "cell_type": "code",
   "execution_count": null,
   "id": "59f353c0",
   "metadata": {},
   "outputs": [],
   "source": [
    "# Exibindo imagens carregadas\n",
    "showImsAndWidgets()"
   ]
  },
  {
   "cell_type": "code",
   "execution_count": null,
   "id": "1b11aac3",
   "metadata": {},
   "outputs": [],
   "source": [
    "tree.close()"
   ]
  },
  {
   "cell_type": "code",
   "execution_count": null,
   "id": "91d17d08",
   "metadata": {},
   "outputs": [],
   "source": []
  }
 ],
 "metadata": {
  "kernelspec": {
   "display_name": "Python 3 (ipykernel)",
   "language": "python",
   "name": "python3"
  },
  "language_info": {
   "codemirror_mode": {
    "name": "ipython",
    "version": 3
   },
   "file_extension": ".py",
   "mimetype": "text/x-python",
   "name": "python",
   "nbconvert_exporter": "python",
   "pygments_lexer": "ipython3",
   "version": "3.10.7"
  }
 },
 "nbformat": 4,
 "nbformat_minor": 5
}
